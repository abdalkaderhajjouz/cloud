{
  "nbformat": 4,
  "nbformat_minor": 0,
  "metadata": {
    "colab": {
      "provenance": [],
      "authorship_tag": "ABX9TyNntgVnc6Fuz5xjgyl8aerF",
      "include_colab_link": true
    },
    "kernelspec": {
      "name": "python3",
      "display_name": "Python 3"
    },
    "language_info": {
      "name": "python"
    }
  },
  "cells": [
    {
      "cell_type": "markdown",
      "metadata": {
        "id": "view-in-github",
        "colab_type": "text"
      },
      "source": [
        "<a href=\"https://colab.research.google.com/github/abdalkaderhajjouz/cloud/blob/main/Untitled24.ipynb\" target=\"_parent\"><img src=\"https://colab.research.google.com/assets/colab-badge.svg\" alt=\"Open In Colab\"/></a>"
      ]
    },
    {
      "cell_type": "markdown",
      "source": [
        "\n",
        "#Practice Markdown\n",
        "This notebook lets you experiment with producing repeatable technical documentation. Use this notebook to do the following actions:\n",
        "\n",
        "Create a code cell and print a Python Hello World statement: print(\"hello world\")\n",
        "Create a Markdown Cell and add a Title using # and then a statement using plain text. You can looks at the source code for this cell to get an idea of how to use Markdown.\n",
        "Take some ideas from the Master Markdown Github Guide and implement them here.\n",
        "Finally, download this notebook as a .ipynb file and check into a Github Project\n",
        "---\n",
        "\n"
      ],
      "metadata": {
        "id": "kItZGq6BHgNl"
      }
    },
    {
      "cell_type": "code",
      "execution_count": 1,
      "metadata": {
        "colab": {
          "base_uri": "https://localhost:8080/"
        },
        "id": "1mMwzi3xGu3W",
        "outputId": "e8672566-41fb-4fb3-c2eb-cdc8b97d440d"
      },
      "outputs": [
        {
          "output_type": "stream",
          "name": "stdout",
          "text": [
            "hello world\n"
          ]
        }
      ],
      "source": [
        "print(\"hello world\")"
      ]
    },
    {
      "cell_type": "markdown",
      "source": [
        "\n",
        "\n",
        "---\n",
        "\n"
      ],
      "metadata": {
        "id": "zoQAffMYHOaU"
      }
    },
    {
      "cell_type": "code",
      "source": [],
      "metadata": {
        "id": "-eYJmGWJHNM0"
      },
      "execution_count": null,
      "outputs": []
    },
    {
      "cell_type": "markdown",
      "source": [
        "ouyoi"
      ],
      "metadata": {
        "id": "FbtdSWFeHSoE"
      }
    }
  ]
}